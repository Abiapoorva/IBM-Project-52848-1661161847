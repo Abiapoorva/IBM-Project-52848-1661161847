{
  "nbformat": 4,
  "nbformat_minor": 0,
  "metadata": {
    "colab": {
      "provenance": []
    },
    "kernelspec": {
      "name": "python3",
      "display_name": "Python 3"
    },
    "language_info": {
      "name": "python"
    }
  },
  "cells": [
    {
      "cell_type": "markdown",
      "source": [
        "#Twilio Account"
      ],
      "metadata": {
        "id": "QzVeBUfGwne-"
      }
    },
    {
      "cell_type": "markdown",
      "source": [
        "account_durai = 'AC04fd8c4ea21f7599b004db5c72066eef'\n",
        "\n",
        "auth_token = '48a23af63a81a9fe85bf6e600f3668f4'\n",
        "\n",
        "client = Client(account_durai, auth_token)\n",
        "\n",
        "message = client.messages \\\n",
        "\n",
        "    .create(\n",
        "        \n",
        "         body='Forest fire is detected , stay alert',\n",
        "\n",
        "         from_='+16075363954',\n",
        "\n",
        "         to='+919043062227'\n",
        "         \n",
        "     )\n",
        "\n",
        "print(message.durai)"
      ],
      "metadata": {
        "id": "Q3k-FhR7xNhC"
      }
    }
  ]
}